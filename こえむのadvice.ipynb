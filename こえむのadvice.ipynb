{
 "cells": [
  {
   "cell_type": "markdown",
   "metadata": {},
   "source": [
    "AWS社員のこえむからの助言"
   ]
  },
  {
   "cell_type": "markdown",
   "metadata": {},
   "source": [
    "#### 参考url\n",
    "\n",
    "1. [実際に手を動かして学ぶ！AWS Hands-on for Beginners のご紹介](https://aws.amazon.com/jp/blogs/news/aws-hands-on-for-beginners-01/)<br>\n",
    "1. [スタートアップにおけるマルチアカウントの考え方と AWS Control Tower のすゝめ](https://aws.amazon.com/jp/blogs/startup/multi-accounts-and-control-tower/)<br>\n",
    "1. [AWS Startup ゼミ 2021 秋期講習 / AWS Startup Seminar 2021 Autumn class - AWS Dev Day](https://speakerdeck.com/mats16/aws-startup-seminar-2021-autumn-class-aws-dev-day)<br>\n",
    "1. [[AWS Startup ゼミ]よくある課題を⼀気に解説︕御社の技術レベルがアップする 2020 春期講習](https://d1.awsstatic.com/ja_JP/startupday/sudo2020/SUD_Online_2020_Tech01.pdf)<br>\n",
    "1. [AWS の WordPress High Availability by Bitnami](https://aws.amazon.com/jp/quickstart/architecture/wordpress-high-availability-bitnami/)<br>\n",
    "1. [WordPress Packaged By Bitnami For AWS Cloud](https://docs.bitnami.com/aws/apps/wordpress/)<br>\n",
    "1. [バーストパフォーマンス(T系)インスタンスの特徴を理解して上手に利用しよう](https://aws.amazon.com/jp/blogs/startup/burstable-performance-instances/)<br>"
   ]
  },
  {
   "cell_type": "markdown",
   "metadata": {},
   "source": [
    "#### メモ\n",
    "- SSHは忘れてよい\n",
    "    - ポート22を開放するとそこを攻撃される。別の認証方法（例えばGoogle連携）を活用した方がセキュリティが高い\n",
    "- 東京リージョンよりオレゴンの方が安い\n",
    "    - 静的webサービスの場合、CDNを嚙ませれば近隣のデータセンターのキャッシュへリクエストが行くから、遅延を気にしなくてもよい。\n",
    "- T系は本番環境で使うな\n",
    "    - T系のインスタンスは安いがスペックが低い。<br>\n",
    "    CPU使用率が上がるとバーストモードになり、<br>\n",
    "    クレジットを使い切ると利用制限（Standard Mode）もしくは追加課金（Unlimited）が発生する。<br>\n",
    "    本番はM系が無難。\n",
    "- スポットインスタンスの存在\n",
    "    - アイドル状態のCPUリソースはスポットインスタンスとして、1/3程度の価格で販売されている。<br>\n",
    "    CPUリソース使用率が上がると、容赦なく使用制限されて遮断される。<br>\n",
    "    簡単なテストなどに使える<br>\n",
    "- AWS利用料の見積もり\n",
    "  - AWS pricing calcualtor\n",
    "    - https://calculator.aws/#/"
   ]
  }
 ],
 "metadata": {
  "language_info": {
   "name": "python"
  },
  "orig_nbformat": 4
 },
 "nbformat": 4,
 "nbformat_minor": 2
}
